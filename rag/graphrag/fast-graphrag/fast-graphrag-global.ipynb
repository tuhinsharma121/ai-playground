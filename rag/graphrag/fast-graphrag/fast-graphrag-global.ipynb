{
 "cells": [
  {
   "cell_type": "markdown",
   "id": "5375bad0-caf7-43b8-9541-09ddde32a746",
   "metadata": {},
   "source": [
    "# Read the data from book.txt, chunk and create docs"
   ]
  },
  {
   "cell_type": "code",
   "execution_count": 3,
   "id": "fface0f3-8199-4253-bdf3-8f2318b11aa6",
   "metadata": {},
   "outputs": [
    {
     "data": {
      "text/plain": [
       "'A CHRISTMAS CAROL\\n\\nCHARACTERS\\n\\nBob Cratchit, clerk to Ebenezer Scrooge.\\nPeter Cratchit, a son of the preceding.\\nTim Cratchit (\"Tiny Tim\"), a cripple, youngest son of Bob Cratchit.\\nMr. Fezziwig, a kind-hearted, jovial old merchant.\\nFred, Scrooge\\'s nephew.\\nGhost of Christmas Past, a phantom showing things past.\\nGhost of Christmas Present, a spirit of a kind, generous,\\nand hearty nature.\\nGhost of Christmas Yet to Come, an apparition showing the shadows\\nof things which yet may happen.\\nGhost of Jacob Marley, a spectre of Scrooge\\'s former partner in business.\\nJoe, a marine-store dealer and receiver of stolen goods.\\nEbenezer Scrooge, a grasping, covetous old man, the surviving partner\\nof the firm of Scrooge and Marley.\\nMr. Topper, a bachelor.\\nDick Wilkins, a fellow apprentice of Scrooge\\'s.\\n\\nBelle, a comely matron, an old sweetheart of Scrooge\\'s.\\nCaroline, wife of one of Scrooge\\'s debtors.\\nMrs. Cratchit, wife of Bob Cratchit.\\nBelinda and Martha Cratchit, daughters of the preceding.\\n\\nMrs. Dilber, a laundress.\\nFan, the sister of Scrooge.\\nMrs. Fezziwig, the worthy partner of Mr. Fezziwig.\\n\\nSTAVE ONE\\n\\n\\n\\n\\nMARLEY\\'S GHOST\\n\\n\\nMarley was dead, to begin with. There is no doubt whatever about that.\\nThe register of his burial was signed by the clergyman, the clerk, the\\nundertaker, and the chief mourner. Scrooge signed it. And Scrooge\\'s name\\nwas good upon \\'Change for anything he chose to put his hand to. Old\\nMarley was as dead as a door-nail.\\n\\nMind! I don\\'t mean to say that I know of my own knowledge, what there is\\nparticularly dead about a door-nail. I might have been inclined, myself,\\nto regard a coffin-nail as the deadest piece of ironmongery in the\\ntrade. But the wisdom of our ancestors is in the simile; and my\\nunhallowed hands shall not disturb it, or the country\\'s done for. You\\nwill, therefore, permit me to repeat, emphatically, that Marley was as\\ndead as a door-nail.\\n\\nScrooge knew he was dead? Of course he did. How could it be otherwise?\\nScrooge and he were partners for I don\\'t know how many years. Scrooge\\nwas his sole executor, his sole administrator, his sole assign, his sole\\nresiduary legatee, his sole friend, and sole mourner. And even Scrooge\\nwas not so dreadfully cut up by the sad event but that he was an\\nexcellent man of business on the very day of the funeral, and solemnised\\nit with an undoubted bargain.\\n\\nThe mention of Marley\\'s funeral brings me back to the point I started\\nfrom. There is no doubt that Marley was dead. This must be distinctly\\nunderstood, or nothing wonderful can come of the story I am going to\\nrelate. If we were not perfectly convinced that Hamlet\\'s father died\\nbefore the play began, there would be nothing more remarkable in his\\ntaking a stroll at night, in an easterly wind, upon his own ramparts,\\nthan there would be in any other middle-aged gentleman rashly turning\\nout after dark in a breezy spot--say St. Paul\\'s Churchyard, for\\ninstance--literally to astonish his son\\'s weak mind.\\n\\nScrooge never painted out Old Marley\\'s name. There it stood, years\\nafterwards, above the warehouse door: Scrooge and Marley. The firm was\\nknown as Scrooge and Marley. Sometimes people new to the business called\\nScrooge Scrooge, and sometimes Marley, but he answered to both names. It\\nwas all the same to him.\\n\\nOh! but he was a tight-fisted hand at the grindstone, Scrooge! a\\nsqueezing, wrenching, grasping, scraping, clutching, covetous old\\nsinner! Hard and sharp as flint, from which no steel had ever struck out\\ngenerous fire; secret, and self-contained, and solitary as an oyster.\\nThe cold within him froze his old features, nipped his pointed nose,\\nshrivelled his cheek, stiffened his gait; made his eyes red, his thin\\nlips blue; and spoke out shrewdly in his grating voice.'"
      ]
     },
     "metadata": {},
     "output_type": "display_data"
    }
   ],
   "source": [
    "import nest_asyncio\n",
    "import asyncio\n",
    "\n",
    "nest_asyncio.apply()\n",
    "\n",
    "from llama_index.core.node_parser import SentenceSplitter\n",
    "from llama_index.core import Document\n",
    "\n",
    "# Load or create your document\n",
    "\n",
    "with open(\"./book.txt\") as f:\n",
    "    doc = f.read() \n",
    "text = doc\n",
    "\n",
    "\n",
    "document = Document(text=text)\n",
    "\n",
    "# Initialize the splitter\n",
    "splitter = SentenceSplitter(\n",
    "    chunk_size=1024,    # Maximum number of characters per chunk\n",
    "    chunk_overlap=20,   # Number of characters overlapping between chunks\n",
    ")\n",
    "\n",
    "# Parse the document into sentence-level nodes\n",
    "nodes = splitter.get_nodes_from_documents([document])\n",
    "\n",
    "docs = list()\n",
    "# Each node contains a sentence\n",
    "for node in nodes:\n",
    "    docs.append(node.text)\n",
    "display(docs[0])"
   ]
  },
  {
   "cell_type": "markdown",
   "id": "413825b6-e83d-4e23-88ac-0bb010ae269e",
   "metadata": {},
   "source": [
    "# Initialize Fast GraphRAG and create the indexing"
   ]
  },
  {
   "cell_type": "code",
   "execution_count": 4,
   "id": "c3ae6be9-9944-44b2-afa5-e866e3166158",
   "metadata": {},
   "outputs": [
    {
     "name": "stderr",
     "output_type": "stream",
     "text": [
      "Extracting data: 100%|██████████████████████████████████████████████████████████████████████████████████████████████████████████████████████████████████████████████████████████████████| 1/1 [00:11<00:00, 11.30s/it]\n",
      "Building [done]: 100%|██████████████████████████████████████████████████████████████████████████████████████████████████████████████████████████████████████████████████████████████████| 7/7 [00:02<00:00,  2.39it/s]\n",
      "Extracting data: 100%|██████████████████████████████████████████████████████████████████████████████████████████████████████████████████████████████████████████████████████████████████| 1/1 [00:10<00:00, 10.28s/it]\n",
      "Building [done]: 100%|██████████████████████████████████████████████████████████████████████████████████████████████████████████████████████████████████████████████████████████████████| 7/7 [00:02<00:00,  3.15it/s]\n",
      "Extracting data: 100%|██████████████████████████████████████████████████████████████████████████████████████████████████████████████████████████████████████████████████████████████████| 1/1 [00:03<00:00,  3.59s/it]\n",
      "Building [done]: 100%|██████████████████████████████████████████████████████████████████████████████████████████████████████████████████████████████████████████████████████████████████| 7/7 [00:02<00:00,  3.18it/s]\n",
      "Extracting data: 100%|██████████████████████████████████████████████████████████████████████████████████████████████████████████████████████████████████████████████████████████████████| 1/1 [00:04<00:00,  4.11s/it]\n",
      "Building [done]: 100%|██████████████████████████████████████████████████████████████████████████████████████████████████████████████████████████████████████████████████████████████████| 7/7 [00:02<00:00,  3.40it/s]\n",
      "Extracting data: 100%|██████████████████████████████████████████████████████████████████████████████████████████████████████████████████████████████████████████████████████████████████| 1/1 [00:07<00:00,  7.38s/it]\n",
      "Building [done]: 100%|██████████████████████████████████████████████████████████████████████████████████████████████████████████████████████████████████████████████████████████████████| 7/7 [00:02<00:00,  3.24it/s]\n",
      "Extracting data: 100%|██████████████████████████████████████████████████████████████████████████████████████████████████████████████████████████████████████████████████████████████████| 1/1 [00:12<00:00, 12.36s/it]\n",
      "Building [done]: 100%|██████████████████████████████████████████████████████████████████████████████████████████████████████████████████████████████████████████████████████████████████| 7/7 [00:02<00:00,  2.82it/s]\n",
      "Extracting data: 100%|██████████████████████████████████████████████████████████████████████████████████████████████████████████████████████████████████████████████████████████████████| 1/1 [00:10<00:00, 10.12s/it]\n",
      "Building [done]: 100%|██████████████████████████████████████████████████████████████████████████████████████████████████████████████████████████████████████████████████████████████████| 7/7 [00:02<00:00,  2.49it/s]\n",
      "Extracting data: 100%|██████████████████████████████████████████████████████████████████████████████████████████████████████████████████████████████████████████████████████████████████| 1/1 [00:06<00:00,  6.49s/it]\n",
      "Building [done]: 100%|██████████████████████████████████████████████████████████████████████████████████████████████████████████████████████████████████████████████████████████████████| 7/7 [00:03<00:00,  2.15it/s]\n",
      "Extracting data: 100%|██████████████████████████████████████████████████████████████████████████████████████████████████████████████████████████████████████████████████████████████████| 1/1 [00:04<00:00,  4.21s/it]\n",
      "Building [done]: 100%|██████████████████████████████████████████████████████████████████████████████████████████████████████████████████████████████████████████████████████████████████| 7/7 [00:01<00:00,  4.02it/s]\n",
      "Extracting data: 100%|██████████████████████████████████████████████████████████████████████████████████████████████████████████████████████████████████████████████████████████████████| 1/1 [00:09<00:00,  9.34s/it]\n",
      "Building [done]: 100%|██████████████████████████████████████████████████████████████████████████████████████████████████████████████████████████████████████████████████████████████████| 7/7 [00:03<00:00,  2.16it/s]\n",
      "Extracting data: 100%|██████████████████████████████████████████████████████████████████████████████████████████████████████████████████████████████████████████████████████████████████| 1/1 [00:06<00:00,  6.13s/it]\n",
      "Building [done]: 100%|██████████████████████████████████████████████████████████████████████████████████████████████████████████████████████████████████████████████████████████████████| 7/7 [00:02<00:00,  2.67it/s]\n",
      "Extracting data: 100%|██████████████████████████████████████████████████████████████████████████████████████████████████████████████████████████████████████████████████████████████████| 1/1 [00:06<00:00,  6.44s/it]\n",
      "Building [done]: 100%|██████████████████████████████████████████████████████████████████████████████████████████████████████████████████████████████████████████████████████████████████| 7/7 [00:01<00:00,  3.82it/s]\n",
      "Extracting data: 100%|██████████████████████████████████████████████████████████████████████████████████████████████████████████████████████████████████████████████████████████████████| 1/1 [00:06<00:00,  6.39s/it]\n",
      "Building [done]: 100%|██████████████████████████████████████████████████████████████████████████████████████████████████████████████████████████████████████████████████████████████████| 7/7 [00:04<00:00,  1.69it/s]\n",
      "Extracting data: 100%|██████████████████████████████████████████████████████████████████████████████████████████████████████████████████████████████████████████████████████████████████| 1/1 [00:10<00:00, 10.29s/it]\n",
      "Building [done]: 100%|██████████████████████████████████████████████████████████████████████████████████████████████████████████████████████████████████████████████████████████████████| 7/7 [00:04<00:00,  1.56it/s]\n",
      "Extracting data: 100%|██████████████████████████████████████████████████████████████████████████████████████████████████████████████████████████████████████████████████████████████████| 1/1 [00:07<00:00,  7.93s/it]\n",
      "Building [done]: 100%|██████████████████████████████████████████████████████████████████████████████████████████████████████████████████████████████████████████████████████████████████| 7/7 [00:03<00:00,  2.00it/s]\n",
      "Extracting data: 100%|██████████████████████████████████████████████████████████████████████████████████████████████████████████████████████████████████████████████████████████████████| 1/1 [00:07<00:00,  7.36s/it]\n",
      "Building [done]: 100%|██████████████████████████████████████████████████████████████████████████████████████████████████████████████████████████████████████████████████████████████████| 7/7 [00:01<00:00,  3.56it/s]\n",
      "Extracting data: 100%|██████████████████████████████████████████████████████████████████████████████████████████████████████████████████████████████████████████████████████████████████| 1/1 [00:05<00:00,  5.06s/it]\n",
      "Building [done]: 100%|██████████████████████████████████████████████████████████████████████████████████████████████████████████████████████████████████████████████████████████████████| 7/7 [00:03<00:00,  1.76it/s]\n",
      "Extracting data: 100%|██████████████████████████████████████████████████████████████████████████████████████████████████████████████████████████████████████████████████████████████████| 1/1 [00:05<00:00,  5.57s/it]\n",
      "Building [done]: 100%|██████████████████████████████████████████████████████████████████████████████████████████████████████████████████████████████████████████████████████████████████| 7/7 [00:01<00:00,  3.96it/s]\n",
      "Extracting data: 100%|██████████████████████████████████████████████████████████████████████████████████████████████████████████████████████████████████████████████████████████████████| 1/1 [00:03<00:00,  3.22s/it]\n",
      "Building [done]: 100%|██████████████████████████████████████████████████████████████████████████████████████████████████████████████████████████████████████████████████████████████████| 7/7 [00:04<00:00,  1.74it/s]\n",
      "Extracting data: 100%|██████████████████████████████████████████████████████████████████████████████████████████████████████████████████████████████████████████████████████████████████| 1/1 [00:07<00:00,  7.06s/it]\n",
      "Building [done]: 100%|██████████████████████████████████████████████████████████████████████████████████████████████████████████████████████████████████████████████████████████████████| 7/7 [00:03<00:00,  2.26it/s]\n",
      "Extracting data: 100%|██████████████████████████████████████████████████████████████████████████████████████████████████████████████████████████████████████████████████████████████████| 1/1 [00:11<00:00, 11.82s/it]\n",
      "Building [done]: 100%|██████████████████████████████████████████████████████████████████████████████████████████████████████████████████████████████████████████████████████████████████| 7/7 [00:04<00:00,  1.61it/s]\n",
      "Extracting data: 100%|██████████████████████████████████████████████████████████████████████████████████████████████████████████████████████████████████████████████████████████████████| 1/1 [00:15<00:00, 15.74s/it]\n",
      "Building [done]: 100%|██████████████████████████████████████████████████████████████████████████████████████████████████████████████████████████████████████████████████████████████████| 7/7 [00:02<00:00,  2.51it/s]\n",
      "Extracting data: 100%|██████████████████████████████████████████████████████████████████████████████████████████████████████████████████████████████████████████████████████████████████| 1/1 [00:09<00:00,  9.46s/it]\n",
      "Building [done]: 100%|██████████████████████████████████████████████████████████████████████████████████████████████████████████████████████████████████████████████████████████████████| 7/7 [00:05<00:00,  1.20it/s]\n",
      "Extracting data: 100%|██████████████████████████████████████████████████████████████████████████████████████████████████████████████████████████████████████████████████████████████████| 1/1 [00:09<00:00,  9.43s/it]\n",
      "Building [done]: 100%|██████████████████████████████████████████████████████████████████████████████████████████████████████████████████████████████████████████████████████████████████| 7/7 [00:02<00:00,  2.88it/s]\n",
      "Extracting data: 100%|██████████████████████████████████████████████████████████████████████████████████████████████████████████████████████████████████████████████████████████████████| 1/1 [00:05<00:00,  5.59s/it]\n",
      "Building [done]: 100%|██████████████████████████████████████████████████████████████████████████████████████████████████████████████████████████████████████████████████████████████████| 7/7 [00:02<00:00,  2.90it/s]\n",
      "Extracting data: 100%|██████████████████████████████████████████████████████████████████████████████████████████████████████████████████████████████████████████████████████████████████| 1/1 [00:08<00:00,  8.25s/it]\n",
      "Building [done]: 100%|██████████████████████████████████████████████████████████████████████████████████████████████████████████████████████████████████████████████████████████████████| 7/7 [00:03<00:00,  1.97it/s]\n",
      "Extracting data: 100%|██████████████████████████████████████████████████████████████████████████████████████████████████████████████████████████████████████████████████████████████████| 1/1 [00:05<00:00,  5.16s/it]\n",
      "Building [done]: 100%|██████████████████████████████████████████████████████████████████████████████████████████████████████████████████████████████████████████████████████████████████| 7/7 [00:01<00:00,  3.87it/s]\n",
      "Extracting data: 100%|██████████████████████████████████████████████████████████████████████████████████████████████████████████████████████████████████████████████████████████████████| 1/1 [00:08<00:00,  8.53s/it]\n",
      "Building [done]: 100%|██████████████████████████████████████████████████████████████████████████████████████████████████████████████████████████████████████████████████████████████████| 7/7 [00:03<00:00,  1.96it/s]\n",
      "Extracting data: 100%|██████████████████████████████████████████████████████████████████████████████████████████████████████████████████████████████████████████████████████████████████| 1/1 [00:06<00:00,  6.07s/it]\n",
      "Building [done]: 100%|██████████████████████████████████████████████████████████████████████████████████████████████████████████████████████████████████████████████████████████████████| 7/7 [00:04<00:00,  1.57it/s]\n",
      "Extracting data: 100%|██████████████████████████████████████████████████████████████████████████████████████████████████████████████████████████████████████████████████████████████████| 1/1 [00:08<00:00,  8.68s/it]\n",
      "Building [done]: 100%|██████████████████████████████████████████████████████████████████████████████████████████████████████████████████████████████████████████████████████████████████| 7/7 [00:04<00:00,  1.59it/s]\n",
      "Extracting data: 100%|██████████████████████████████████████████████████████████████████████████████████████████████████████████████████████████████████████████████████████████████████| 1/1 [00:04<00:00,  4.02s/it]\n",
      "Building [done]: 100%|██████████████████████████████████████████████████████████████████████████████████████████████████████████████████████████████████████████████████████████████████| 7/7 [00:01<00:00,  3.76it/s]\n",
      "Extracting data: 100%|██████████████████████████████████████████████████████████████████████████████████████████████████████████████████████████████████████████████████████████████████| 1/1 [00:07<00:00,  7.53s/it]\n",
      "Building [done]: 100%|██████████████████████████████████████████████████████████████████████████████████████████████████████████████████████████████████████████████████████████████████| 7/7 [00:02<00:00,  2.53it/s]\n",
      "Extracting data: 100%|██████████████████████████████████████████████████████████████████████████████████████████████████████████████████████████████████████████████████████████████████| 1/1 [00:02<00:00,  2.48s/it]\n",
      "Building [done]: 100%|██████████████████████████████████████████████████████████████████████████████████████████████████████████████████████████████████████████████████████████████████| 7/7 [00:01<00:00,  4.91it/s]\n",
      "Extracting data: 100%|██████████████████████████████████████████████████████████████████████████████████████████████████████████████████████████████████████████████████████████████████| 1/1 [00:05<00:00,  5.81s/it]\n",
      "Building [done]: 100%|██████████████████████████████████████████████████████████████████████████████████████████████████████████████████████████████████████████████████████████████████| 7/7 [00:03<00:00,  2.01it/s]\n",
      "Extracting data: 100%|██████████████████████████████████████████████████████████████████████████████████████████████████████████████████████████████████████████████████████████████████| 1/1 [00:09<00:00,  9.94s/it]\n",
      "Building [done]: 100%|██████████████████████████████████████████████████████████████████████████████████████████████████████████████████████████████████████████████████████████████████| 7/7 [00:03<00:00,  2.12it/s]\n",
      "Extracting data: 100%|██████████████████████████████████████████████████████████████████████████████████████████████████████████████████████████████████████████████████████████████████| 1/1 [00:06<00:00,  6.19s/it]\n",
      "Building [done]: 100%|██████████████████████████████████████████████████████████████████████████████████████████████████████████████████████████████████████████████████████████████████| 7/7 [00:03<00:00,  2.13it/s]\n",
      "Extracting data: 100%|██████████████████████████████████████████████████████████████████████████████████████████████████████████████████████████████████████████████████████████████████| 1/1 [00:04<00:00,  4.42s/it]\n",
      "Building [done]: 100%|██████████████████████████████████████████████████████████████████████████████████████████████████████████████████████████████████████████████████████████████████| 7/7 [00:02<00:00,  2.37it/s]\n",
      "Extracting data: 100%|██████████████████████████████████████████████████████████████████████████████████████████████████████████████████████████████████████████████████████████████████| 1/1 [00:07<00:00,  7.95s/it]\n",
      "Building [done]: 100%|██████████████████████████████████████████████████████████████████████████████████████████████████████████████████████████████████████████████████████████████████| 7/7 [00:03<00:00,  2.20it/s]\n",
      "Extracting data: 100%|██████████████████████████████████████████████████████████████████████████████████████████████████████████████████████████████████████████████████████████████████| 1/1 [00:06<00:00,  6.01s/it]\n",
      "Building [done]: 100%|██████████████████████████████████████████████████████████████████████████████████████████████████████████████████████████████████████████████████████████████████| 7/7 [00:04<00:00,  1.74it/s]\n",
      "Extracting data: 100%|██████████████████████████████████████████████████████████████████████████████████████████████████████████████████████████████████████████████████████████████████| 1/1 [00:07<00:00,  7.29s/it]\n",
      "Building [done]: 100%|██████████████████████████████████████████████████████████████████████████████████████████████████████████████████████████████████████████████████████████████████| 7/7 [00:03<00:00,  2.20it/s]\n",
      "Extracting data: 100%|██████████████████████████████████████████████████████████████████████████████████████████████████████████████████████████████████████████████████████████████████| 1/1 [00:07<00:00,  7.60s/it]\n",
      "Building [done]: 100%|██████████████████████████████████████████████████████████████████████████████████████████████████████████████████████████████████████████████████████████████████| 7/7 [00:02<00:00,  2.46it/s]\n",
      "Extracting data: 100%|██████████████████████████████████████████████████████████████████████████████████████████████████████████████████████████████████████████████████████████████████| 1/1 [00:10<00:00, 10.82s/it]\n",
      "Building [done]: 100%|██████████████████████████████████████████████████████████████████████████████████████████████████████████████████████████████████████████████████████████████████| 7/7 [00:04<00:00,  1.57it/s]\n",
      "Extracting data: 100%|██████████████████████████████████████████████████████████████████████████████████████████████████████████████████████████████████████████████████████████████████| 1/1 [00:05<00:00,  5.78s/it]\n",
      "Building [done]: 100%|██████████████████████████████████████████████████████████████████████████████████████████████████████████████████████████████████████████████████████████████████| 7/7 [00:02<00:00,  3.05it/s]\n",
      "Extracting data: 100%|██████████████████████████████████████████████████████████████████████████████████████████████████████████████████████████████████████████████████████████████████| 1/1 [00:03<00:00,  3.22s/it]\n",
      "Building [done]: 100%|██████████████████████████████████████████████████████████████████████████████████████████████████████████████████████████████████████████████████████████████████| 7/7 [00:01<00:00,  3.55it/s]\n",
      "Extracting data: 100%|██████████████████████████████████████████████████████████████████████████████████████████████████████████████████████████████████████████████████████████████████| 1/1 [00:03<00:00,  3.38s/it]\n",
      "Building [done]: 100%|██████████████████████████████████████████████████████████████████████████████████████████████████████████████████████████████████████████████████████████████████| 7/7 [00:02<00:00,  2.65it/s]\n"
     ]
    },
    {
     "name": "stdout",
     "output_type": "stream",
     "text": [
      "The top 5 themes in the data are Christmas spirit, transformation, memories of the past, family relationships, and redemption.\n"
     ]
    }
   ],
   "source": [
    "from typing import List\n",
    "\n",
    "import instructor\n",
    "from dotenv import load_dotenv\n",
    "\n",
    "from fast_graphrag import GraphRAG\n",
    "from fast_graphrag._llm import OpenAIEmbeddingService, OpenAILLMService\n",
    "\n",
    "\n",
    "DOMAIN = \"Analyze this story and identify the characters. Focus on how they interact with each other, the locations they explore, and their relationships.\"\n",
    "\n",
    "QUERIES = [\n",
    "    \"What is the significance of Christmas Eve in A Christmas Carol?\",\n",
    "    \"How does the setting of Victorian London contribute to the story's themes?\",\n",
    "    \"Describe the chain of events that leads to Scrooge's transformation.\",\n",
    "    \"How does Dickens use the different spirits (Past, Present, and Future) to guide Scrooge?\",\n",
    "    \"Why does Dickens choose to divide the story into \\\"staves\\\" rather than chapters?\"\n",
    "]\n",
    "\n",
    "ENTITY_TYPES = [\"Character\", \"Animal\", \"Place\", \"Object\", \"Activity\", \"Event\"]\n",
    "\n",
    "\n",
    "save_dir = 'fastgraphrag_books'# Define save directory for Fast GraphRAG objects (each LLM/Embedding model combination will create a new subdirectory)\n",
    "llm_model_name = 'gpt-3.5-turbo' # Any OpenAI model name\n",
    "embedding_model_name = 'text-embedding-3-small'# Embedding model name\n",
    "\n",
    "fast_grag = GraphRAG(\n",
    "    working_dir=save_dir,\n",
    "    domain=DOMAIN,\n",
    "    example_queries=\"\\n\".join(QUERIES),\n",
    "    entity_types=ENTITY_TYPES,\n",
    "    config=GraphRAG.Config(\n",
    "        llm_service=OpenAILLMService(\n",
    "            model=llm_model_name,\n",
    "        ),\n",
    "        embedding_service=OpenAIEmbeddingService(\n",
    "            model=embedding_model_name,\n",
    "        ),\n",
    "    ),\n",
    ")\n",
    "\n",
    "\n",
    "for doc in docs:\n",
    "    fast_grag.insert(doc)\n",
    "\n",
    "print(fast_grag.query(\"What are the top 5 themes in the data?\").response)"
   ]
  },
  {
   "cell_type": "markdown",
   "id": "d08a2228-7ab4-444f-a66c-0d4d25aedd42",
   "metadata": {},
   "source": [
    "# Load the golden QnA data generated by Claude 3.7 Sonnet"
   ]
  },
  {
   "cell_type": "code",
   "execution_count": 5,
   "id": "abd018b2-4f06-478e-b464-75be5f55f5e3",
   "metadata": {},
   "outputs": [
    {
     "data": {
      "text/html": [
       "<div>\n",
       "<style scoped>\n",
       "    .dataframe tbody tr th:only-of-type {\n",
       "        vertical-align: middle;\n",
       "    }\n",
       "\n",
       "    .dataframe tbody tr th {\n",
       "        vertical-align: top;\n",
       "    }\n",
       "\n",
       "    .dataframe thead th {\n",
       "        text-align: right;\n",
       "    }\n",
       "</style>\n",
       "<table border=\"1\" class=\"dataframe\">\n",
       "  <thead>\n",
       "    <tr style=\"text-align: right;\">\n",
       "      <th></th>\n",
       "      <th>reference_question</th>\n",
       "      <th>reference_answer</th>\n",
       "    </tr>\n",
       "  </thead>\n",
       "  <tbody>\n",
       "    <tr>\n",
       "      <th>0</th>\n",
       "      <td>What literary device does Dickens use in the o...</td>\n",
       "      <td>Repetition (\"Marley was dead\") and paradox (\"d...</td>\n",
       "    </tr>\n",
       "    <tr>\n",
       "      <th>1</th>\n",
       "      <td>What is the symbolic significance of Scrooge k...</td>\n",
       "      <td>It symbolizes Scrooge's inability to let go of...</td>\n",
       "    </tr>\n",
       "    <tr>\n",
       "      <th>2</th>\n",
       "      <td>How does Dickens establish Scrooge's character...</td>\n",
       "      <td>Through cold imagery: he \"iced his office,\" ca...</td>\n",
       "    </tr>\n",
       "    <tr>\n",
       "      <th>3</th>\n",
       "      <td>What is the thematic purpose of the contrast b...</td>\n",
       "      <td>It juxtaposes institutional cruelty with famil...</td>\n",
       "    </tr>\n",
       "    <tr>\n",
       "      <th>4</th>\n",
       "      <td>What narrative technique does Dickens use when...</td>\n",
       "      <td>Contradictory descriptors (\"like a child; yet ...</td>\n",
       "    </tr>\n",
       "  </tbody>\n",
       "</table>\n",
       "</div>"
      ],
      "text/plain": [
       "                                  reference_question  \\\n",
       "0  What literary device does Dickens use in the o...   \n",
       "1  What is the symbolic significance of Scrooge k...   \n",
       "2  How does Dickens establish Scrooge's character...   \n",
       "3  What is the thematic purpose of the contrast b...   \n",
       "4  What narrative technique does Dickens use when...   \n",
       "\n",
       "                                    reference_answer  \n",
       "0  Repetition (\"Marley was dead\") and paradox (\"d...  \n",
       "1  It symbolizes Scrooge's inability to let go of...  \n",
       "2  Through cold imagery: he \"iced his office,\" ca...  \n",
       "3  It juxtaposes institutional cruelty with famil...  \n",
       "4  Contradictory descriptors (\"like a child; yet ...  "
      ]
     },
     "execution_count": 5,
     "metadata": {},
     "output_type": "execute_result"
    }
   ],
   "source": [
    "import pandas as pd\n",
    "\n",
    "df = pd.read_json(\"golden_data.json\")\n",
    "\n",
    "df.head(5)"
   ]
  },
  {
   "cell_type": "markdown",
   "id": "f98ffdfd-d6da-4916-9fa1-0a3e164a5003",
   "metadata": {},
   "source": [
    "# Lets call graphrag to get the answers"
   ]
  },
  {
   "cell_type": "code",
   "execution_count": 7,
   "id": "227adc74-e5b3-490e-bfe8-5a1063cd6d67",
   "metadata": {
    "scrolled": true
   },
   "outputs": [
    {
     "name": "stderr",
     "output_type": "stream",
     "text": [
      "100%|█████████████████████████████████████████████████████████████████████████████████████████████████████████████████████████████████████████████████████████████████████████████████| 98/98 [06:23<00:00,  3.91s/it]\n"
     ]
    }
   ],
   "source": [
    "import tqdm\n",
    "\n",
    "reference_questions = df[\"reference_question\"].tolist()\n",
    "reference_answers = df[\"reference_answer\"].tolist()\n",
    "graphrag_answers = list()\n",
    "\n",
    "for i in tqdm.tqdm(range(len(reference_questions))):\n",
    "    graphrag_answer = fast_grag.query(reference_questions[i]).response\n",
    "    graphrag_answers.append(graphrag_answer)\n",
    "\n",
    "df[\"fastgraphrag_answer\"] = graphrag_answers\n",
    "df.to_json(\"result_fastgraphrag.json\")"
   ]
  },
  {
   "cell_type": "markdown",
   "id": "ec7f6447-9309-4345-b30a-6b54a53c4f5e",
   "metadata": {},
   "source": [
    "# Define the evaluation code using GPT-4"
   ]
  },
  {
   "cell_type": "code",
   "execution_count": 8,
   "id": "1c3cb407-c4af-49f4-adc4-9ea09bc8a06c",
   "metadata": {},
   "outputs": [],
   "source": [
    "import openai\n",
    "\n",
    "# First, set the API key\n",
    "openai_client = openai.OpenAI()  # <-- create a client\n",
    "\n",
    "def evaluate_with_llm(question, golden, prediction):\n",
    "    prompt = f\"\"\"\n",
    "    Question: {question}\n",
    "    Golden Answer: {golden}\n",
    "    Model Answer: {prediction}\n",
    "\n",
    "    Evaluate the model answer against the golden answer. \n",
    "    Respond with a score between 1 (poor) and 5 (perfect) based on accuracy, relevance, and completeness.\n",
    "    \"\"\"\n",
    "\n",
    "    response = openai_client.chat.completions.create(\n",
    "        model=\"gpt-4\",  # or \"gpt-3.5-turbo\"\n",
    "        messages=[\n",
    "            {\"role\": \"system\", \"content\": \"You are an expert evaluator.\"},\n",
    "            {\"role\": \"user\", \"content\": prompt}\n",
    "        ]\n",
    "    )\n",
    "    \n",
    "    result_text = response.choices[0].message.content\n",
    "    return result_text\n"
   ]
  },
  {
   "cell_type": "markdown",
   "id": "323b28a6-b492-44a4-91b6-6ca6a69cb71f",
   "metadata": {},
   "source": [
    "# Call the Evaluation method for all the golden examples and store the scores"
   ]
  },
  {
   "cell_type": "code",
   "execution_count": 10,
   "id": "db909042-ec10-41ac-aabe-203a76e0816f",
   "metadata": {
    "scrolled": true
   },
   "outputs": [
    {
     "name": "stderr",
     "output_type": "stream",
     "text": [
      "98it [01:08,  1.44it/s]\n"
     ]
    }
   ],
   "source": [
    "from tqdm import tqdm\n",
    "\n",
    "df = pd.read_json(\"result_fastgraphrag.json\")\n",
    "reference_questions = df[\"reference_question\"].tolist()\n",
    "reference_answers = df[\"reference_answer\"].tolist()\n",
    "graphrag_answers = df[\"fastgraphrag_answer\"].tolist()\n",
    "eval_scores = list()\n",
    "\n",
    "for reference_question,reference_answer,graphrag_answer in tqdm(zip(reference_questions,reference_answers,graphrag_answers)):\n",
    "    eval_scores.append(evaluate_with_llm(reference_question,reference_answer,graphrag_answer))\n",
    "\n",
    "df[\"gpt4_score\"] = eval_scores\n",
    "df.to_json(\"result_fastgraphrag_score.json\")"
   ]
  },
  {
   "cell_type": "markdown",
   "id": "4412e1a4-3a11-49e1-96cd-66eaac4e6a8b",
   "metadata": {},
   "source": [
    "# Mean score for all the examples in the golden dataset"
   ]
  },
  {
   "cell_type": "code",
   "execution_count": 11,
   "id": "f685bb7f-b72b-47ee-a6f1-7a9dbc4f3f6b",
   "metadata": {},
   "outputs": [
    {
     "data": {
      "text/plain": [
       "np.float64(4.25765306122449)"
      ]
     },
     "execution_count": 11,
     "metadata": {},
     "output_type": "execute_result"
    }
   ],
   "source": [
    "df = pd.read_json(\"result_fastgraphrag_score.json\")\n",
    "df[\"gpt4_score\"].mean()"
   ]
  },
  {
   "cell_type": "code",
   "execution_count": null,
   "id": "afb0fe4c-60dd-4b28-8a79-8fce3342936a",
   "metadata": {},
   "outputs": [],
   "source": []
  },
  {
   "cell_type": "code",
   "execution_count": null,
   "id": "6c46cc84-83bf-4788-9c2d-991d6752aad1",
   "metadata": {},
   "outputs": [],
   "source": []
  }
 ],
 "metadata": {
  "kernelspec": {
   "display_name": "Python 3 (ipykernel)",
   "language": "python",
   "name": "python3"
  },
  "language_info": {
   "codemirror_mode": {
    "name": "ipython",
    "version": 3
   },
   "file_extension": ".py",
   "mimetype": "text/x-python",
   "name": "python",
   "nbconvert_exporter": "python",
   "pygments_lexer": "ipython3",
   "version": "3.11.12"
  }
 },
 "nbformat": 4,
 "nbformat_minor": 5
}
