{
 "cells": [
  {
   "cell_type": "code",
   "execution_count": 1,
   "id": "03d913c0-f4d5-4969-b9da-3fad1c05686b",
   "metadata": {},
   "outputs": [],
   "source": [
    "import pandas as pd"
   ]
  },
  {
   "cell_type": "code",
   "execution_count": 5,
   "id": "31babf90-9b7b-40f7-949b-515b6f31bd37",
   "metadata": {},
   "outputs": [],
   "source": [
    "rag = pd.read_json(\"rag/simple-rag/llamaindex-rag/result_simple_rag_score.json\")\n",
    "rag.columns = ['reference_question', 'reference_answer', 'rag_answer', 'rag_score']\n",
    "ms = pd.read_json(\"rag/graphrag/ms-graphrag/result_graphrag_score.json\")\n",
    "ms.columns = ['reference_question', 'reference_answer', 'ms_answer', 'ms_score']\n",
    "hippo = pd.read_json(\"rag/graphrag/hippo-graphrag/result_hippographrag_score.json\")\n",
    "hippo.columns = ['reference_question', 'reference_answer', 'hippo_answer', 'hippo_score']\n",
    "fast = pd.read_json(\"rag/graphrag/fast-graphrag/result_fastgraphrag_score.json\")\n",
    "fast.columns = ['reference_question', 'reference_answer', 'fast_answer', 'fast_score']"
   ]
  },
  {
   "cell_type": "code",
   "execution_count": 6,
   "id": "5b852005-93a6-4891-8445-e2e8dab03a45",
   "metadata": {},
   "outputs": [
    {
     "data": {
      "text/html": [
       "<div>\n",
       "<style scoped>\n",
       "    .dataframe tbody tr th:only-of-type {\n",
       "        vertical-align: middle;\n",
       "    }\n",
       "\n",
       "    .dataframe tbody tr th {\n",
       "        vertical-align: top;\n",
       "    }\n",
       "\n",
       "    .dataframe thead th {\n",
       "        text-align: right;\n",
       "    }\n",
       "</style>\n",
       "<table border=\"1\" class=\"dataframe\">\n",
       "  <thead>\n",
       "    <tr style=\"text-align: right;\">\n",
       "      <th></th>\n",
       "      <th>reference_question</th>\n",
       "      <th>reference_answer</th>\n",
       "      <th>rag_answer</th>\n",
       "      <th>rag_score</th>\n",
       "    </tr>\n",
       "  </thead>\n",
       "  <tbody>\n",
       "    <tr>\n",
       "      <th>0</th>\n",
       "      <td>What literary device does Dickens use in the o...</td>\n",
       "      <td>Repetition (\"Marley was dead\") and paradox (\"d...</td>\n",
       "      <td>Dickens uses imagery to emphasize Marley's pre...</td>\n",
       "      <td>2.50</td>\n",
       "    </tr>\n",
       "    <tr>\n",
       "      <th>1</th>\n",
       "      <td>What is the symbolic significance of Scrooge k...</td>\n",
       "      <td>It symbolizes Scrooge's inability to let go of...</td>\n",
       "      <td>Scrooge keeping Marley's name symbolizes their...</td>\n",
       "      <td>2.50</td>\n",
       "    </tr>\n",
       "    <tr>\n",
       "      <th>2</th>\n",
       "      <td>How does Dickens establish Scrooge's character...</td>\n",
       "      <td>Through cold imagery: he \"iced his office,\" ca...</td>\n",
       "      <td>Dickens uses cold, desolate settings to reflec...</td>\n",
       "      <td>3.50</td>\n",
       "    </tr>\n",
       "    <tr>\n",
       "      <th>3</th>\n",
       "      <td>What is the thematic purpose of the contrast b...</td>\n",
       "      <td>It juxtaposes institutional cruelty with famil...</td>\n",
       "      <td>To highlight the transformation of Scrooge fro...</td>\n",
       "      <td>3.50</td>\n",
       "    </tr>\n",
       "    <tr>\n",
       "      <th>4</th>\n",
       "      <td>What narrative technique does Dickens use when...</td>\n",
       "      <td>Contradictory descriptors (\"like a child; yet ...</td>\n",
       "      <td>Dickens uses vivid imagery to create a mysteri...</td>\n",
       "      <td>3.50</td>\n",
       "    </tr>\n",
       "    <tr>\n",
       "      <th>...</th>\n",
       "      <td>...</td>\n",
       "      <td>...</td>\n",
       "      <td>...</td>\n",
       "      <td>...</td>\n",
       "    </tr>\n",
       "    <tr>\n",
       "      <th>93</th>\n",
       "      <td>How does the portrayal of Belle's \"large heart...</td>\n",
       "      <td>The contrast between spiritual wealth and mate...</td>\n",
       "      <td>Belle's selfless love contrasts with Scrooge's...</td>\n",
       "      <td>3.50</td>\n",
       "    </tr>\n",
       "    <tr>\n",
       "      <th>94</th>\n",
       "      <td>What narrative function is served by having Sc...</td>\n",
       "      <td>Creates liminal boundary between ordinary and ...</td>\n",
       "      <td>To introduce the supernatural element and fore...</td>\n",
       "      <td>4.20</td>\n",
       "    </tr>\n",
       "    <tr>\n",
       "      <th>95</th>\n",
       "      <td>How does Dickens use the repeated mention of S...</td>\n",
       "      <td>The thin, cheap food despite his wealth reveal...</td>\n",
       "      <td>Dickens uses the repeated mention of Scrooge's...</td>\n",
       "      <td>3.50</td>\n",
       "    </tr>\n",
       "    <tr>\n",
       "      <th>96</th>\n",
       "      <td>What rhetorical technique is used when Marley ...</td>\n",
       "      <td>Paradoxical contrast between physical speed an...</td>\n",
       "      <td>Irony.</td>\n",
       "      <td>2.50</td>\n",
       "    </tr>\n",
       "    <tr>\n",
       "      <th>97</th>\n",
       "      <td>How does Scrooge's spontaneous emotional respo...</td>\n",
       "      <td>His enthusiastic recollection reveals capacity...</td>\n",
       "      <td>It triggers nostalgia and empathy, leading to ...</td>\n",
       "      <td>3.75</td>\n",
       "    </tr>\n",
       "  </tbody>\n",
       "</table>\n",
       "<p>98 rows × 4 columns</p>\n",
       "</div>"
      ],
      "text/plain": [
       "                                   reference_question  \\\n",
       "0   What literary device does Dickens use in the o...   \n",
       "1   What is the symbolic significance of Scrooge k...   \n",
       "2   How does Dickens establish Scrooge's character...   \n",
       "3   What is the thematic purpose of the contrast b...   \n",
       "4   What narrative technique does Dickens use when...   \n",
       "..                                                ...   \n",
       "93  How does the portrayal of Belle's \"large heart...   \n",
       "94  What narrative function is served by having Sc...   \n",
       "95  How does Dickens use the repeated mention of S...   \n",
       "96  What rhetorical technique is used when Marley ...   \n",
       "97  How does Scrooge's spontaneous emotional respo...   \n",
       "\n",
       "                                     reference_answer  \\\n",
       "0   Repetition (\"Marley was dead\") and paradox (\"d...   \n",
       "1   It symbolizes Scrooge's inability to let go of...   \n",
       "2   Through cold imagery: he \"iced his office,\" ca...   \n",
       "3   It juxtaposes institutional cruelty with famil...   \n",
       "4   Contradictory descriptors (\"like a child; yet ...   \n",
       "..                                                ...   \n",
       "93  The contrast between spiritual wealth and mate...   \n",
       "94  Creates liminal boundary between ordinary and ...   \n",
       "95  The thin, cheap food despite his wealth reveal...   \n",
       "96  Paradoxical contrast between physical speed an...   \n",
       "97  His enthusiastic recollection reveals capacity...   \n",
       "\n",
       "                                           rag_answer  rag_score  \n",
       "0   Dickens uses imagery to emphasize Marley's pre...       2.50  \n",
       "1   Scrooge keeping Marley's name symbolizes their...       2.50  \n",
       "2   Dickens uses cold, desolate settings to reflec...       3.50  \n",
       "3   To highlight the transformation of Scrooge fro...       3.50  \n",
       "4   Dickens uses vivid imagery to create a mysteri...       3.50  \n",
       "..                                                ...        ...  \n",
       "93  Belle's selfless love contrasts with Scrooge's...       3.50  \n",
       "94  To introduce the supernatural element and fore...       4.20  \n",
       "95  Dickens uses the repeated mention of Scrooge's...       3.50  \n",
       "96                                             Irony.       2.50  \n",
       "97  It triggers nostalgia and empathy, leading to ...       3.75  \n",
       "\n",
       "[98 rows x 4 columns]"
      ]
     },
     "execution_count": 6,
     "metadata": {},
     "output_type": "execute_result"
    }
   ],
   "source": [
    "rag"
   ]
  },
  {
   "cell_type": "code",
   "execution_count": 9,
   "id": "c16b50c4-83a5-46f5-b5f6-fc13168f78d4",
   "metadata": {},
   "outputs": [],
   "source": [
    "from functools import reduce\n",
    "df_merged = reduce(lambda  left,right: pd.merge(left,right,on=['reference_question','reference_answer'],\n",
    "                                            how='outer'), [rag,ms,hippo,fast])"
   ]
  },
  {
   "cell_type": "code",
   "execution_count": 10,
   "id": "72205126-c267-40a9-8c1f-3154e69fc0c6",
   "metadata": {},
   "outputs": [
    {
     "data": {
      "text/html": [
       "<div>\n",
       "<style scoped>\n",
       "    .dataframe tbody tr th:only-of-type {\n",
       "        vertical-align: middle;\n",
       "    }\n",
       "\n",
       "    .dataframe tbody tr th {\n",
       "        vertical-align: top;\n",
       "    }\n",
       "\n",
       "    .dataframe thead th {\n",
       "        text-align: right;\n",
       "    }\n",
       "</style>\n",
       "<table border=\"1\" class=\"dataframe\">\n",
       "  <thead>\n",
       "    <tr style=\"text-align: right;\">\n",
       "      <th></th>\n",
       "      <th>reference_question</th>\n",
       "      <th>reference_answer</th>\n",
       "      <th>rag_answer</th>\n",
       "      <th>rag_score</th>\n",
       "      <th>ms_answer</th>\n",
       "      <th>ms_score</th>\n",
       "      <th>hippo_answer</th>\n",
       "      <th>hippo_score</th>\n",
       "      <th>fast_answer</th>\n",
       "      <th>fast_score</th>\n",
       "    </tr>\n",
       "  </thead>\n",
       "  <tbody>\n",
       "    <tr>\n",
       "      <th>0</th>\n",
       "      <td>How do the children clinging to the Ghost of C...</td>\n",
       "      <td>They embody Victorian social problems while wa...</td>\n",
       "      <td>They represent societal issues and warn Scroog...</td>\n",
       "      <td>3.5</td>\n",
       "      <td>### Social Commentary and Plot Advancement in ...</td>\n",
       "      <td>5.00</td>\n",
       "      <td>The children, Ignorance and Want, serve as a s...</td>\n",
       "      <td>4.5</td>\n",
       "      <td>The children clinging to the Ghost of Christma...</td>\n",
       "      <td>4.7</td>\n",
       "    </tr>\n",
       "    <tr>\n",
       "      <th>1</th>\n",
       "      <td>How does Belle's dialogue with young Scrooge f...</td>\n",
       "      <td>It reveals Scrooge's transformation from ideal...</td>\n",
       "      <td>Belle's dialogue shows Scrooge's lost love and...</td>\n",
       "      <td>4.5</td>\n",
       "      <td>### Belle's Dialogue with Young Scrooge: Chara...</td>\n",
       "      <td>4.70</td>\n",
       "      <td>Belle's dialogue with young Scrooge functions ...</td>\n",
       "      <td>4.8</td>\n",
       "      <td>Belle's dialogue with young Scrooge functions ...</td>\n",
       "      <td>4.5</td>\n",
       "    </tr>\n",
       "    <tr>\n",
       "      <th>2</th>\n",
       "      <td>How does Dickens establish Scrooge's character...</td>\n",
       "      <td>Through cold imagery: he \"iced his office,\" ca...</td>\n",
       "      <td>Dickens uses cold, desolate settings to reflec...</td>\n",
       "      <td>3.5</td>\n",
       "      <td>### Dickens' Character Development Through Env...</td>\n",
       "      <td>4.50</td>\n",
       "      <td>Dickens establishes Scrooge's character throug...</td>\n",
       "      <td>4.5</td>\n",
       "      <td>Dickens establishes Scrooge's character throug...</td>\n",
       "      <td>2.5</td>\n",
       "    </tr>\n",
       "    <tr>\n",
       "      <th>3</th>\n",
       "      <td>How does Dickens use Bob Cratchit's small act ...</td>\n",
       "      <td>Shows joy persisting despite oppression, sugge...</td>\n",
       "      <td>Bob Cratchit's small act of rebellion shows de...</td>\n",
       "      <td>3.5</td>\n",
       "      <td>### Analysis of Bob Cratchit's Act of Rebellio...</td>\n",
       "      <td>4.70</td>\n",
       "      <td>Dickens uses Bob Cratchit's small act of rebel...</td>\n",
       "      <td>4.5</td>\n",
       "      <td>Bob Cratchit's small act of rebellion, sliding...</td>\n",
       "      <td>4.5</td>\n",
       "    </tr>\n",
       "    <tr>\n",
       "      <th>4</th>\n",
       "      <td>How does Dickens use sensory imagery when desc...</td>\n",
       "      <td>Vibrant multisensory imagery (visual \"gleaming...</td>\n",
       "      <td>Dickens uses vivid descriptions of sights, sme...</td>\n",
       "      <td>2.5</td>\n",
       "      <td>### Sensory Imagery in Dickens' Description of...</td>\n",
       "      <td>4.75</td>\n",
       "      <td>Dickens uses sensory imagery to vividly descri...</td>\n",
       "      <td>4.5</td>\n",
       "      <td>Charles Dickens uses sensory imagery to vividl...</td>\n",
       "      <td>4.4</td>\n",
       "    </tr>\n",
       "    <tr>\n",
       "      <th>...</th>\n",
       "      <td>...</td>\n",
       "      <td>...</td>\n",
       "      <td>...</td>\n",
       "      <td>...</td>\n",
       "      <td>...</td>\n",
       "      <td>...</td>\n",
       "      <td>...</td>\n",
       "      <td>...</td>\n",
       "      <td>...</td>\n",
       "      <td>...</td>\n",
       "    </tr>\n",
       "    <tr>\n",
       "      <th>93</th>\n",
       "      <td>What rhetorical technique does Dickens employ ...</td>\n",
       "      <td>Dramatic irony—Scrooge misattributes oppressiv...</td>\n",
       "      <td>Dickens uses irony to highlight the hypocrisy ...</td>\n",
       "      <td>3.5</td>\n",
       "      <td>### Rhetorical Techniques in Dickens' \"A Chris...</td>\n",
       "      <td>4.75</td>\n",
       "      <td>Irony.</td>\n",
       "      <td>2.5</td>\n",
       "      <td>Dickens employs the rhetorical technique of ir...</td>\n",
       "      <td>4.5</td>\n",
       "    </tr>\n",
       "    <tr>\n",
       "      <th>94</th>\n",
       "      <td>What rhetorical technique does Dickens employ ...</td>\n",
       "      <td>Synesthetic imagery—where visual elements \"ref...</td>\n",
       "      <td>Dickens uses imagery to vividly describe the f...</td>\n",
       "      <td>2.5</td>\n",
       "      <td>### Dickens' Rhetorical Technique in Describin...</td>\n",
       "      <td>4.80</td>\n",
       "      <td>Imagery.</td>\n",
       "      <td>3.5</td>\n",
       "      <td>Dickens employs the rhetorical technique of vi...</td>\n",
       "      <td>3.5</td>\n",
       "    </tr>\n",
       "    <tr>\n",
       "      <th>95</th>\n",
       "      <td>What rhetorical technique is employed when Mar...</td>\n",
       "      <td>Semantic inversion—redefines \"business\" from c...</td>\n",
       "      <td>Irony.</td>\n",
       "      <td>2.5</td>\n",
       "      <td>### Rhetorical Analysis of Marley's Declaratio...</td>\n",
       "      <td>4.20</td>\n",
       "      <td>Contrast or antithesis.</td>\n",
       "      <td>3.5</td>\n",
       "      <td>Marley employs the rhetorical technique of iro...</td>\n",
       "      <td>3.5</td>\n",
       "    </tr>\n",
       "    <tr>\n",
       "      <th>96</th>\n",
       "      <td>What rhetorical technique is employed when the...</td>\n",
       "      <td>Rhetorical mirroring—reflecting his own langua...</td>\n",
       "      <td>Irony.</td>\n",
       "      <td>3.5</td>\n",
       "      <td>### Rhetorical Technique Used by the Ghost of ...</td>\n",
       "      <td>4.30</td>\n",
       "      <td>Irony.</td>\n",
       "      <td>3.5</td>\n",
       "      <td>The Ghost of Christmas Present employs the rhe...</td>\n",
       "      <td>4.3</td>\n",
       "    </tr>\n",
       "    <tr>\n",
       "      <th>97</th>\n",
       "      <td>What rhetorical technique is used when Marley ...</td>\n",
       "      <td>Paradoxical contrast between physical speed an...</td>\n",
       "      <td>Irony.</td>\n",
       "      <td>2.5</td>\n",
       "      <td>### Rhetorical Technique Analysis in Marley's ...</td>\n",
       "      <td>4.50</td>\n",
       "      <td>Irony.</td>\n",
       "      <td>3.5</td>\n",
       "      <td>Irony is used when Marley describes himself tr...</td>\n",
       "      <td>4.0</td>\n",
       "    </tr>\n",
       "  </tbody>\n",
       "</table>\n",
       "<p>98 rows × 10 columns</p>\n",
       "</div>"
      ],
      "text/plain": [
       "                                   reference_question  \\\n",
       "0   How do the children clinging to the Ghost of C...   \n",
       "1   How does Belle's dialogue with young Scrooge f...   \n",
       "2   How does Dickens establish Scrooge's character...   \n",
       "3   How does Dickens use Bob Cratchit's small act ...   \n",
       "4   How does Dickens use sensory imagery when desc...   \n",
       "..                                                ...   \n",
       "93  What rhetorical technique does Dickens employ ...   \n",
       "94  What rhetorical technique does Dickens employ ...   \n",
       "95  What rhetorical technique is employed when Mar...   \n",
       "96  What rhetorical technique is employed when the...   \n",
       "97  What rhetorical technique is used when Marley ...   \n",
       "\n",
       "                                     reference_answer  \\\n",
       "0   They embody Victorian social problems while wa...   \n",
       "1   It reveals Scrooge's transformation from ideal...   \n",
       "2   Through cold imagery: he \"iced his office,\" ca...   \n",
       "3   Shows joy persisting despite oppression, sugge...   \n",
       "4   Vibrant multisensory imagery (visual \"gleaming...   \n",
       "..                                                ...   \n",
       "93  Dramatic irony—Scrooge misattributes oppressiv...   \n",
       "94  Synesthetic imagery—where visual elements \"ref...   \n",
       "95  Semantic inversion—redefines \"business\" from c...   \n",
       "96  Rhetorical mirroring—reflecting his own langua...   \n",
       "97  Paradoxical contrast between physical speed an...   \n",
       "\n",
       "                                           rag_answer  rag_score  \\\n",
       "0   They represent societal issues and warn Scroog...        3.5   \n",
       "1   Belle's dialogue shows Scrooge's lost love and...        4.5   \n",
       "2   Dickens uses cold, desolate settings to reflec...        3.5   \n",
       "3   Bob Cratchit's small act of rebellion shows de...        3.5   \n",
       "4   Dickens uses vivid descriptions of sights, sme...        2.5   \n",
       "..                                                ...        ...   \n",
       "93  Dickens uses irony to highlight the hypocrisy ...        3.5   \n",
       "94  Dickens uses imagery to vividly describe the f...        2.5   \n",
       "95                                             Irony.        2.5   \n",
       "96                                             Irony.        3.5   \n",
       "97                                             Irony.        2.5   \n",
       "\n",
       "                                            ms_answer  ms_score  \\\n",
       "0   ### Social Commentary and Plot Advancement in ...      5.00   \n",
       "1   ### Belle's Dialogue with Young Scrooge: Chara...      4.70   \n",
       "2   ### Dickens' Character Development Through Env...      4.50   \n",
       "3   ### Analysis of Bob Cratchit's Act of Rebellio...      4.70   \n",
       "4   ### Sensory Imagery in Dickens' Description of...      4.75   \n",
       "..                                                ...       ...   \n",
       "93  ### Rhetorical Techniques in Dickens' \"A Chris...      4.75   \n",
       "94  ### Dickens' Rhetorical Technique in Describin...      4.80   \n",
       "95  ### Rhetorical Analysis of Marley's Declaratio...      4.20   \n",
       "96  ### Rhetorical Technique Used by the Ghost of ...      4.30   \n",
       "97  ### Rhetorical Technique Analysis in Marley's ...      4.50   \n",
       "\n",
       "                                         hippo_answer  hippo_score  \\\n",
       "0   The children, Ignorance and Want, serve as a s...          4.5   \n",
       "1   Belle's dialogue with young Scrooge functions ...          4.8   \n",
       "2   Dickens establishes Scrooge's character throug...          4.5   \n",
       "3   Dickens uses Bob Cratchit's small act of rebel...          4.5   \n",
       "4   Dickens uses sensory imagery to vividly descri...          4.5   \n",
       "..                                                ...          ...   \n",
       "93                                             Irony.          2.5   \n",
       "94                                           Imagery.          3.5   \n",
       "95                            Contrast or antithesis.          3.5   \n",
       "96                                             Irony.          3.5   \n",
       "97                                             Irony.          3.5   \n",
       "\n",
       "                                          fast_answer  fast_score  \n",
       "0   The children clinging to the Ghost of Christma...         4.7  \n",
       "1   Belle's dialogue with young Scrooge functions ...         4.5  \n",
       "2   Dickens establishes Scrooge's character throug...         2.5  \n",
       "3   Bob Cratchit's small act of rebellion, sliding...         4.5  \n",
       "4   Charles Dickens uses sensory imagery to vividl...         4.4  \n",
       "..                                                ...         ...  \n",
       "93  Dickens employs the rhetorical technique of ir...         4.5  \n",
       "94  Dickens employs the rhetorical technique of vi...         3.5  \n",
       "95  Marley employs the rhetorical technique of iro...         3.5  \n",
       "96  The Ghost of Christmas Present employs the rhe...         4.3  \n",
       "97  Irony is used when Marley describes himself tr...         4.0  \n",
       "\n",
       "[98 rows x 10 columns]"
      ]
     },
     "execution_count": 10,
     "metadata": {},
     "output_type": "execute_result"
    }
   ],
   "source": [
    "df_merged"
   ]
  },
  {
   "cell_type": "code",
   "execution_count": 15,
   "id": "96138347-4dae-49d6-9a13-31590e5ebf9a",
   "metadata": {},
   "outputs": [],
   "source": [
    "def compare_score(x):\n",
    "    if float(x[\"rag_score\"])<float(x[\"ms_score\"]) and float(x[\"ms_score\"])<float(x[\"hippo_score\"])  and float(x[\"hippo_score\"])<float(x[\"fast_score\"]):\n",
    "        return True\n",
    "    return False\n",
    "\n",
    "x = df_merged[df_merged.apply(compare_score,axis=1)]"
   ]
  },
  {
   "cell_type": "code",
   "execution_count": 39,
   "id": "aa93b188-c7d0-4c25-9b04-0aa7602c5997",
   "metadata": {},
   "outputs": [],
   "source": [
    "i = 2\n",
    "x = df_merged"
   ]
  },
  {
   "cell_type": "code",
   "execution_count": null,
   "id": "faa22aa9-e1ac-4a8b-b156-3621bb1d62a4",
   "metadata": {},
   "outputs": [],
   "source": []
  },
  {
   "cell_type": "code",
   "execution_count": 40,
   "id": "1b814460-1a18-41a6-a849-09f3880c7a06",
   "metadata": {},
   "outputs": [
    {
     "data": {
      "text/plain": [
       "\"How does Dickens establish Scrooge's character through environmental imagery rather than direct description? \""
      ]
     },
     "execution_count": 40,
     "metadata": {},
     "output_type": "execute_result"
    }
   ],
   "source": [
    "x.reference_question.loc[i]"
   ]
  },
  {
   "cell_type": "code",
   "execution_count": 41,
   "id": "64c63059-cb19-44f2-a475-0ab8b425c438",
   "metadata": {},
   "outputs": [
    {
     "data": {
      "text/plain": [
       "'Through cold imagery: he \"iced his office,\" carries \"his own low temperature,\" and is compared to \"flint\" with no \"generous fire.\" The external cold reflects his internal emotional frigidity. '"
      ]
     },
     "execution_count": 41,
     "metadata": {},
     "output_type": "execute_result"
    }
   ],
   "source": [
    "x.reference_answer.loc[i]"
   ]
  },
  {
   "cell_type": "code",
   "execution_count": 42,
   "id": "6ae957e3-03d8-4cc9-a124-1013e8fbe86f",
   "metadata": {},
   "outputs": [
    {
     "data": {
      "text/plain": [
       "\"Dickens uses cold, desolate settings to reflect Scrooge's icy, isolated personality.\""
      ]
     },
     "execution_count": 42,
     "metadata": {},
     "output_type": "execute_result"
    }
   ],
   "source": [
    "x.rag_answer.loc[i]"
   ]
  },
  {
   "cell_type": "code",
   "execution_count": 43,
   "id": "3dfcdef8-5125-4ea1-95b4-1b0979899df8",
   "metadata": {},
   "outputs": [
    {
     "data": {
      "text/plain": [
       "'### Dickens\\' Character Development Through Environmental Imagery\\n\\nIn Dickens\\' narrative of \"A Christmas Carol,\" analysts have highlighted the significant role of environmental imagery in establishing Scrooge\\'s character indirectly. The transformation of Scrooge is symbolized by changes in his surroundings, reflecting his inner change. For instance, his room transitions from bright to dark, mirroring his evolving persona . This shift in environmental tones signifies a deeper emotional and psychological transformation within Scrooge, emphasizing the subtleties of his character development.\\n\\nMoreover, the contrast between dark, gloomy settings and scenes of light, warmth, and festivity serves as a powerful tool for character portrayal. Dickens uses atmospheric tones to highlight this stark difference, symbolizing Scrooge\\'s journey from a cold, unfeeling individual to a compassionate and generous person. The environmental contrasts underscore themes of redemption and renewal, offering insights into Scrooge\\'s internal metamorphosis . \\n\\n### Symbolic Elements and Allegorical Representations\\n\\nThe narrative structure of \"A Christmas Carol\" incorporates various symbolic elements, such as ghostly visits, past memories, and visions of possible futures, to deepen the understanding of Scrooge\\'s character. These elements serve as allegorical representations of personal growth, empathy, and the significance of human connection. By intertwining these symbolic components with environmental imagery, Dickens provides a nuanced portrayal of Scrooge\\'s emotional journey and development .\\n\\nFurthermore, Scrooge\\'s interactions with key locations and elements in his environment play a crucial role in shaping his character. For instance, his mansion, where he navigates through rooms and makes pivotal decisions, symbolizes his internal struggles and connection to the past, present, and future. The mansion\\'s features and Scrooge\\'s relationship with the physical space serve as reflections of his inner conflicts and attention to detail, enriching the narrative and thematic depth of the story . \\n\\n### Implications of Environmental Symbolism\\n\\nThe use of environmental imagery in character development not only enhances the reader\\'s understanding of Scrooge\\'s transformation but also underscores the broader themes of the narrative. Symbolic representations like the lighthouse and ship community, the metaphorical insect in relation to Heaven, and the cheerful company around the fire all contribute to highlighting different facets of Scrooge\\'s journey towards redemption, spiritual growth, and emotional connection with others . \\n\\nIn conclusion, Dickens masterfully employs environmental imagery to subtly delineate Scrooge\\'s character, allowing readers to witness his evolution through the lens of his surroundings. This approach adds layers of complexity to the narrative, emphasizing the profound impact of external influences on internal change and personal growth.'"
      ]
     },
     "execution_count": 43,
     "metadata": {},
     "output_type": "execute_result"
    }
   ],
   "source": [
    "x.ms_answer.loc[i]"
   ]
  },
  {
   "cell_type": "code",
   "execution_count": 44,
   "id": "793f7ab5-00e8-4391-927d-2b30a62399b6",
   "metadata": {},
   "outputs": [
    {
     "data": {
      "text/plain": [
       "\"Dickens establishes Scrooge's character through environmental imagery by describing the physical surroundings and weather conditions that reflect Scrooge's inner qualities, such as his cold demeanor, isolation, and miserly nature.\""
      ]
     },
     "execution_count": 44,
     "metadata": {},
     "output_type": "execute_result"
    }
   ],
   "source": [
    "x.hippo_answer.loc[i]"
   ]
  },
  {
   "cell_type": "code",
   "execution_count": 35,
   "id": "638ae16c-0f0b-4483-9c93-a2fb23df24a0",
   "metadata": {},
   "outputs": [
    {
     "data": {
      "text/plain": [
       "'The children clinging to the Ghost of Christmas Present—Ignorance and Want—serve as social commentary by representing social issues such as poverty and lack of knowledge. They advance the plot by warning Scrooge about the consequences of ignoring these societal problems, emphasizing the need for compassion and understanding towards others.'"
      ]
     },
     "execution_count": 35,
     "metadata": {},
     "output_type": "execute_result"
    }
   ],
   "source": [
    "x.fast_answer.loc[i]"
   ]
  },
  {
   "cell_type": "code",
   "execution_count": null,
   "id": "129773e6-5817-49cf-8175-b04c3fc4a3e1",
   "metadata": {},
   "outputs": [],
   "source": []
  },
  {
   "cell_type": "code",
   "execution_count": null,
   "id": "8fa8f9c6-4192-4250-9714-b4ca61a5f75e",
   "metadata": {},
   "outputs": [],
   "source": []
  },
  {
   "cell_type": "code",
   "execution_count": null,
   "id": "ce83407b-8935-46b0-a075-19b885d68326",
   "metadata": {},
   "outputs": [],
   "source": []
  },
  {
   "cell_type": "code",
   "execution_count": null,
   "id": "eb2cf4cc-b2ce-4e47-a81f-c1b59494622f",
   "metadata": {},
   "outputs": [],
   "source": []
  },
  {
   "cell_type": "code",
   "execution_count": null,
   "id": "409c1531-cd5e-4b9d-8280-30697906d3c9",
   "metadata": {},
   "outputs": [],
   "source": []
  }
 ],
 "metadata": {
  "kernelspec": {
   "display_name": "Python 3 (ipykernel)",
   "language": "python",
   "name": "python3"
  },
  "language_info": {
   "codemirror_mode": {
    "name": "ipython",
    "version": 3
   },
   "file_extension": ".py",
   "mimetype": "text/x-python",
   "name": "python",
   "nbconvert_exporter": "python",
   "pygments_lexer": "ipython3",
   "version": "3.11.12"
  }
 },
 "nbformat": 4,
 "nbformat_minor": 5
}
